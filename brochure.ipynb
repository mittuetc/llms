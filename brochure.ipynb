{
 "cells": [
  {
   "cell_type": "markdown",
   "id": "a98030af-fcd1-4d63-a36e-38ba053498fa",
   "metadata": {},
   "source": [
    "# A full business solution\n",
    "\n",
    "Create a product that builds a Brochure for a company to be used for prospective clients, investors and potential recruits.\n",
    "\n",
    "We will be provided a company name and their primary website.\n",
    "\n",
    "See the end of this notebook for examples of real-world business applications.\n",
    "\n",
    "And remember: I'm always available if you have problems or ideas! Please do reach out.\n",
    "\n",
    "Business Applications¶\n",
    "In this exercise we extended the Day 1 code to make multiple LLM calls, and generate a document.\n",
    "\n",
    "In terms of techniques, this is perhaps the first example of Agentic AI design patterns, as we combined multiple calls to LLMs. This will feature more in Week 2, and then we will return to Agentic AI in a big way in Week 8 when we build a fully autonomous Agent solution.\n",
    "\n",
    "In terms of business applications - generating content in this way is one of the very most common Use Cases. As with summarization, this can be applied to any business vertical. Write marketing content, generate a product tutorial from a spec, create personalized email content, and so much more. Explore how you can apply content generation to your business, and try making yourself a proof-of-concept prototype."
   ]
  },
  {
   "cell_type": "code",
   "execution_count": 1,
   "id": "d5b08506-dc8b-4443-9201-5f1848161363",
   "metadata": {},
   "outputs": [],
   "source": [
    "# imports\n",
    "\n",
    "import os\n",
    "import requests\n",
    "import json\n",
    "from typing import List\n",
    "from dotenv import load_dotenv\n",
    "from bs4 import BeautifulSoup\n",
    "from IPython.display import Markdown, display, update_display\n",
    "from openai import OpenAI"
   ]
  },
  {
   "cell_type": "code",
   "execution_count": 21,
   "id": "fc5d8880-f2ee-4c06-af16-ecbc0262af61",
   "metadata": {},
   "outputs": [],
   "source": [
    "# Initialize and constants\n",
    "\n",
    "load_dotenv()\n",
    "os.environ['OPENAI_API_KEY'] = os.getenv('OPENAI_API_KEY', 'your-openai-api-key')\n",
    "MODEL = 'gpt-4o-mini'\n",
    "openai = OpenAI()"
   ]
  },
  {
   "cell_type": "code",
   "execution_count": 13,
   "id": "106dd65e-90af-4ca8-86b6-23a41840645b",
   "metadata": {},
   "outputs": [],
   "source": [
    "# A class to represent a Webpage\n",
    "\n",
    "class Website:\n",
    "    url: str\n",
    "    title: str\n",
    "    body: str\n",
    "    links: List[str]\n",
    "    text: str\n",
    "\n",
    "    def __init__(self, url):\n",
    "        self.url = url\n",
    "        response = requests.get(url)\n",
    "        self.body = response.content\n",
    "        soup = BeautifulSoup(self.body, 'html.parser')\n",
    "        self.title = soup.title.string if soup.title else \"No title found\"\n",
    "        if soup.body:\n",
    "            for irrelevant in soup.body([\"script\", \"style\", \"img\", \"input\"]):\n",
    "                irrelevant.decompose()\n",
    "            self.text = soup.body.get_text(separator=\"\\n\", strip=True)\n",
    "        else:\n",
    "            self.text = \"\"\n",
    "        links = [link.get('href') for link in soup.find_all('a')]\n",
    "        self.links = [link for link in links if link]\n",
    "\n",
    "    def get_contents(self):\n",
    "        return f\"Webpage Title:\\n{self.title}\\nWebpage Contents:\\n{self.text}\\n\\n\""
   ]
  },
  {
   "cell_type": "code",
   "execution_count": 14,
   "id": "e30d8128-933b-44cc-81c8-ab4c9d86589a",
   "metadata": {},
   "outputs": [
    {
     "name": "stdout",
     "output_type": "stream",
     "text": [
      "Webpage Title:\n",
      "Delivering Transformative Change and Regulatory Compliance\n",
      "Webpage Contents:\n",
      "KNOWLEDGE SEED SOLUTIONS LIMITED\n",
      "Delivering Transformative Change and Regulatory Compliance\n",
      "Knowledge Seed Solutions is a pioneering consultancy that seamlessly brings together regulatory knowledge, industry experience and Technical knowhow to enhance operational excellence and meet regulatory compliance.\n",
      "Knowledge Seed Verticals\n",
      "Our comprehensive solutions and services cater to a diverse clientele, ranging from top tier Investment Banks, FinTech, RegTech, Financial Market Infrastructure Providers, and Regulatory Reporting Service Providers.\n",
      "Regulatory Change Practice\n",
      "Executing various Change projects to meet the timelines and demands of regulators across EMEA and UK.\n",
      "Process Excellence and Process Improvement\n",
      "Crafting a methodical approach to eliminate waste and improve efficiency.\n",
      "Transaction Reporting\n",
      "Driving regulatory compliance to meet NFRR reporting across jurisdictions covering EMIR REFIT, CFTC REWRITE, SFTR, FINFRAG, MAS and ASIC.\n",
      "Operational Risk Management\n",
      "Providing functional expertise to define, measure, analyse, improve and controls various processes covering Operational, Compliance, and Audit Risks.\n",
      "Business Analysis and Project Management\n",
      "Enabling business analysis and delivering projects by managing cross-functional teams located globally.\n",
      "Target Operating Model\n",
      "Analysing AS IS and building TO BE flows as per the standards agreed with project sponsor and key stakeholders.\n",
      "Our Core Values\n",
      "Integrity, Accountability, Empathy,\n",
      "Trust, and Discipline.\n",
      "Our Guiding Principles\n",
      "Innovation, Collaboration, Partnership, Diversity, and Sustainability.\n",
      "Contact Us\n",
      "Email: Contact@knowledgeseedsolutions.com\n",
      "Subscribe\n",
      "Subscribed\n",
      "Delivering Transformative Change and Regulatory Compliance\n",
      "Sign me up\n",
      "Already have a WordPress.com account?\n",
      "Log in now.\n",
      "Delivering Transformative Change and Regulatory Compliance\n",
      "Edit Site\n",
      "Subscribe\n",
      "Subscribed\n",
      "Sign up\n",
      "Log in\n",
      "Report this content\n",
      "View site in Reader\n",
      "Manage subscriptions\n",
      "Collapse this bar\n",
      "\n",
      "\n"
     ]
    }
   ],
   "source": [
    "ed = Website(\"https://knowledgeseedsolutions.co.uk/\")\n",
    "print(ed.get_contents())"
   ]
  },
  {
   "cell_type": "markdown",
   "id": "1771af9c-717a-4fca-bbbe-8a95893312c3",
   "metadata": {},
   "source": [
    "## First step: Have GPT-4o-mini figure out which links are relevant\n",
    "\n",
    "### Use a call to gpt-4o-mini to read the links on a webpage, and respond in structured JSON.  \n",
    "It should decide which links are relevant, and replace relative links such as \"/about\" with \"https://company.com/about\".  \n",
    "We will use \"one shot prompting\" in which we provide an example of how it should respond in the prompt.\n",
    "\n",
    "Sidenote: there is a more advanced technique called \"Structured Outputs\" in which we require the model to respond according to a spec. We cover this technique in Week 8 during our autonomous Agentic AI project."
   ]
  },
  {
   "cell_type": "code",
   "execution_count": 15,
   "id": "6957b079-0d96-45f7-a26a-3487510e9b35",
   "metadata": {},
   "outputs": [],
   "source": [
    "link_system_prompt = \"You are provided with a list of links found on a webpage. \\\n",
    "You are able to decide which of the links would be most relevant to include in a brochure about the company, \\\n",
    "such as links to an About page, or a Company page, or Careers/Jobs pages.\\n\"\n",
    "link_system_prompt += \"You should respond in JSON as in this example:\"\n",
    "link_system_prompt += \"\"\"\n",
    "{\n",
    "    \"links\": [\n",
    "        {\"type\": \"about page\", \"url\": \"https://full.url/goes/here/about\"},\n",
    "        {\"type\": \"careers page\": \"url\": \"https://another.full.url/careers\"}\n",
    "    ]\n",
    "}\n",
    "\"\"\""
   ]
  },
  {
   "cell_type": "code",
   "execution_count": 16,
   "id": "8e1f601b-2eaf-499d-b6b8-c99050c9d6b3",
   "metadata": {},
   "outputs": [],
   "source": [
    "def get_links_user_prompt(website):\n",
    "    user_prompt = f\"Here is the list of links on the website of {website.url} - \"\n",
    "    user_prompt += \"please decide which of these are relevant web links for a brochure about the company, respond with the full https URL in JSON format. \\\n",
    "Do not include Terms of Service, Privacy, email links.\\n\"\n",
    "    user_prompt += \"Links (some might be relative links):\\n\"\n",
    "    user_prompt += \"\\n\".join(website.links)\n",
    "    return user_prompt"
   ]
  },
  {
   "cell_type": "code",
   "execution_count": 17,
   "id": "6bcbfa78-6395-4685-b92c-22d592050fd7",
   "metadata": {},
   "outputs": [
    {
     "name": "stdout",
     "output_type": "stream",
     "text": [
      "Here is the list of links on the website of https://knowledgeseedsolutions.co.uk/ - please decide which of these are relevant web links for a brochure about the company, respond with the full https URL in JSON format. Do not include Terms of Service, Privacy, email links.\n",
      "Links (some might be relative links):\n",
      "https://knowledgeseedsolutions.co.uk/\n",
      "https://knowledgeseedsolutions.co.uk\n",
      "https://knowledgeseedsolutions.co.uk\n",
      "https://wordpress.com/log-in?redirect_to=https%3A%2F%2Fr-login.wordpress.com%2Fremote-login.php%3Faction%3Dlink%26back%3Dhttps%253A%252F%252Fknowledgeseedsolutions.co.uk%252F2023%252F11%252F18%252Fhello-world%252F\n",
      "https://knowledgeseedsolutions.co.uk\n",
      "https://knowledgeseedsolutions.wordpress.com/wp-admin/site-editor.php?postType=wp_template&postId=pub/twentytwentyfour//home\n",
      "https://wordpress.com/start/\n",
      "https://wordpress.com/log-in?redirect_to=https%3A%2F%2Fr-login.wordpress.com%2Fremote-login.php%3Faction%3Dlink%26back%3Dhttps%253A%252F%252Fknowledgeseedsolutions.co.uk%252F2023%252F11%252F18%252Fhello-world%252F\n",
      "https://wordpress.com/abuse/?report_url=https://knowledgeseedsolutions.co.uk\n",
      "https://wordpress.com/read/feeds/152678589\n",
      "https://subscribe.wordpress.com/\n"
     ]
    }
   ],
   "source": [
    "print(get_links_user_prompt(ed))"
   ]
  },
  {
   "cell_type": "code",
   "execution_count": 18,
   "id": "a29aca19-ca13-471c-a4b4-5abbfa813f69",
   "metadata": {},
   "outputs": [],
   "source": [
    "def get_links(url):\n",
    "    website = Website(url)\n",
    "    completion = openai.chat.completions.create(\n",
    "        model=MODEL,\n",
    "        messages=[\n",
    "            {\"role\": \"system\", \"content\": link_system_prompt},\n",
    "            {\"role\": \"user\", \"content\": get_links_user_prompt(website)}\n",
    "      ],\n",
    "        response_format={\"type\": \"json_object\"}\n",
    "    )\n",
    "    result = completion.choices[0].message.content\n",
    "    return json.loads(result)"
   ]
  },
  {
   "cell_type": "code",
   "execution_count": 22,
   "id": "d3d583e2-dcc4-40cc-9b28-1e8dbf402924",
   "metadata": {},
   "outputs": [
    {
     "data": {
      "text/plain": [
       "{'links': [{'type': 'home page',\n",
       "   'url': 'https://knowledgeseedsolutions.co.uk/'}]}"
      ]
     },
     "execution_count": 22,
     "metadata": {},
     "output_type": "execute_result"
    }
   ],
   "source": [
    "get_links(\"https://knowledgeseedsolutions.co.uk/\")"
   ]
  },
  {
   "cell_type": "markdown",
   "id": "0d74128e-dfb6-47ec-9549-288b621c838c",
   "metadata": {},
   "source": [
    "## Second step: make the brochure!\n",
    "\n",
    "Assemble all the details into another prompt to GPT4-o"
   ]
  },
  {
   "cell_type": "code",
   "execution_count": 23,
   "id": "85a5b6e2-e7ef-44a9-bc7f-59ede71037b5",
   "metadata": {},
   "outputs": [],
   "source": [
    "def get_all_details(url):\n",
    "    result = \"Landing page:\\n\"\n",
    "    result += Website(url).get_contents()\n",
    "    links = get_links(url)\n",
    "    print(\"Found links:\", links)\n",
    "    for link in links[\"links\"]:\n",
    "        result += f\"\\n\\n{link['type']}\\n\"\n",
    "        result += Website(link[\"url\"]).get_contents()\n",
    "    return result"
   ]
  },
  {
   "cell_type": "code",
   "execution_count": 24,
   "id": "5099bd14-076d-4745-baf3-dac08d8e5ab2",
   "metadata": {},
   "outputs": [
    {
     "name": "stdout",
     "output_type": "stream",
     "text": [
      "Found links: {'links': [{'type': 'homepage', 'url': 'https://knowledgeseedsolutions.co.uk/'}]}\n",
      "Landing page:\n",
      "Webpage Title:\n",
      "Delivering Transformative Change and Regulatory Compliance\n",
      "Webpage Contents:\n",
      "KNOWLEDGE SEED SOLUTIONS LIMITED\n",
      "Delivering Transformative Change and Regulatory Compliance\n",
      "Knowledge Seed Solutions is a pioneering consultancy that seamlessly brings together regulatory knowledge, industry experience and Technical knowhow to enhance operational excellence and meet regulatory compliance.\n",
      "Knowledge Seed Verticals\n",
      "Our comprehensive solutions and services cater to a diverse clientele, ranging from top tier Investment Banks, FinTech, RegTech, Financial Market Infrastructure Providers, and Regulatory Reporting Service Providers.\n",
      "Regulatory Change Practice\n",
      "Executing various Change projects to meet the timelines and demands of regulators across EMEA and UK.\n",
      "Process Excellence and Process Improvement\n",
      "Crafting a methodical approach to eliminate waste and improve efficiency.\n",
      "Transaction Reporting\n",
      "Driving regulatory compliance to meet NFRR reporting across jurisdictions covering EMIR REFIT, CFTC REWRITE, SFTR, FINFRAG, MAS and ASIC.\n",
      "Operational Risk Management\n",
      "Providing functional expertise to define, measure, analyse, improve and controls various processes covering Operational, Compliance, and Audit Risks.\n",
      "Business Analysis and Project Management\n",
      "Enabling business analysis and delivering projects by managing cross-functional teams located globally.\n",
      "Target Operating Model\n",
      "Analysing AS IS and building TO BE flows as per the standards agreed with project sponsor and key stakeholders.\n",
      "Our Core Values\n",
      "Integrity, Accountability, Empathy,\n",
      "Trust, and Discipline.\n",
      "Our Guiding Principles\n",
      "Innovation, Collaboration, Partnership, Diversity, and Sustainability.\n",
      "Contact Us\n",
      "Email: Contact@knowledgeseedsolutions.com\n",
      "Subscribe\n",
      "Subscribed\n",
      "Delivering Transformative Change and Regulatory Compliance\n",
      "Sign me up\n",
      "Already have a WordPress.com account?\n",
      "Log in now.\n",
      "Delivering Transformative Change and Regulatory Compliance\n",
      "Edit Site\n",
      "Subscribe\n",
      "Subscribed\n",
      "Sign up\n",
      "Log in\n",
      "Report this content\n",
      "View site in Reader\n",
      "Manage subscriptions\n",
      "Collapse this bar\n",
      "\n",
      "\n",
      "\n",
      "homepage\n",
      "Webpage Title:\n",
      "Delivering Transformative Change and Regulatory Compliance\n",
      "Webpage Contents:\n",
      "KNOWLEDGE SEED SOLUTIONS LIMITED\n",
      "Delivering Transformative Change and Regulatory Compliance\n",
      "Knowledge Seed Solutions is a pioneering consultancy that seamlessly brings together regulatory knowledge, industry experience and Technical knowhow to enhance operational excellence and meet regulatory compliance.\n",
      "Knowledge Seed Verticals\n",
      "Our comprehensive solutions and services cater to a diverse clientele, ranging from top tier Investment Banks, FinTech, RegTech, Financial Market Infrastructure Providers, and Regulatory Reporting Service Providers.\n",
      "Regulatory Change Practice\n",
      "Executing various Change projects to meet the timelines and demands of regulators across EMEA and UK.\n",
      "Process Excellence and Process Improvement\n",
      "Crafting a methodical approach to eliminate waste and improve efficiency.\n",
      "Transaction Reporting\n",
      "Driving regulatory compliance to meet NFRR reporting across jurisdictions covering EMIR REFIT, CFTC REWRITE, SFTR, FINFRAG, MAS and ASIC.\n",
      "Operational Risk Management\n",
      "Providing functional expertise to define, measure, analyse, improve and controls various processes covering Operational, Compliance, and Audit Risks.\n",
      "Business Analysis and Project Management\n",
      "Enabling business analysis and delivering projects by managing cross-functional teams located globally.\n",
      "Target Operating Model\n",
      "Analysing AS IS and building TO BE flows as per the standards agreed with project sponsor and key stakeholders.\n",
      "Our Core Values\n",
      "Integrity, Accountability, Empathy,\n",
      "Trust, and Discipline.\n",
      "Our Guiding Principles\n",
      "Innovation, Collaboration, Partnership, Diversity, and Sustainability.\n",
      "Contact Us\n",
      "Email: Contact@knowledgeseedsolutions.com\n",
      "Subscribe\n",
      "Subscribed\n",
      "Delivering Transformative Change and Regulatory Compliance\n",
      "Sign me up\n",
      "Already have a WordPress.com account?\n",
      "Log in now.\n",
      "Delivering Transformative Change and Regulatory Compliance\n",
      "Edit Site\n",
      "Subscribe\n",
      "Subscribed\n",
      "Sign up\n",
      "Log in\n",
      "Report this content\n",
      "View site in Reader\n",
      "Manage subscriptions\n",
      "Collapse this bar\n",
      "\n",
      "\n"
     ]
    }
   ],
   "source": [
    "print(get_all_details(\"https://knowledgeseedsolutions.co.uk/'\"))"
   ]
  },
  {
   "cell_type": "code",
   "execution_count": 25,
   "id": "9b863a55-f86c-4e3f-8a79-94e24c1a8cf2",
   "metadata": {},
   "outputs": [],
   "source": [
    "system_prompt = \"You are an assistant that analyzes the contents of several relevant pages from a company website \\\n",
    "and creates a short brochure about the company for prospective customers, investors and recruits. Respond in markdown.\\\n",
    "Include details of company culture, customers and careers/jobs if you have the information.\"\n",
    "\n",
    "# Or uncomment the lines below for a more humorous brochure - this demonstrates how easy it is to incorporate 'tone':\n",
    "\n",
    "# system_prompt = \"You are an assistant that analyzes the contents of several relevant pages from a company website \\\n",
    "# and creates a short humorous, entertaining, jokey brochure about the company for prospective customers, investors and recruits. Respond in markdown.\\\n",
    "# Include details of company culture, customers and careers/jobs if you have the information.\"\n"
   ]
  },
  {
   "cell_type": "code",
   "execution_count": 26,
   "id": "6ab83d92-d36b-4ce0-8bcc-5bb4c2f8ff23",
   "metadata": {},
   "outputs": [],
   "source": [
    "def get_brochure_user_prompt(company_name, url):\n",
    "    user_prompt = f\"You are looking at a company called: {company_name}\\n\"\n",
    "    user_prompt += f\"Here are the contents of its landing page and other relevant pages; use this information to build a short brochure of the company in markdown.\\n\"\n",
    "    user_prompt += get_all_details(url)\n",
    "    user_prompt = user_prompt[:20_000] # Truncate if more than 20,000 characters\n",
    "    return user_prompt"
   ]
  },
  {
   "cell_type": "code",
   "execution_count": 27,
   "id": "e44de579-4a1a-4e6a-a510-20ea3e4b8d46",
   "metadata": {},
   "outputs": [],
   "source": [
    "def create_brochure(company_name, url):\n",
    "    response = openai.chat.completions.create(\n",
    "        model=MODEL,\n",
    "        messages=[\n",
    "            {\"role\": \"system\", \"content\": system_prompt},\n",
    "            {\"role\": \"user\", \"content\": get_brochure_user_prompt(company_name, url)}\n",
    "          ],\n",
    "    )\n",
    "    result = response.choices[0].message.content\n",
    "    display(Markdown(result))"
   ]
  },
  {
   "cell_type": "code",
   "execution_count": 28,
   "id": "e093444a-9407-42ae-924a-145730591a39",
   "metadata": {},
   "outputs": [
    {
     "name": "stdout",
     "output_type": "stream",
     "text": [
      "Found links: {'links': [{'type': 'company homepage', 'url': 'https://knowledgeseedsolutions.co.uk/'}]}\n"
     ]
    },
    {
     "data": {
      "text/markdown": [
       "# Knowledge Seed Solutions Limited\n",
       "\n",
       "## Transformative Change and Regulatory Compliance\n",
       "\n",
       "At Knowledge Seed Solutions, we are pioneers in the consultancy space, delivering transformative change and ensuring regulatory compliance for a diverse clientele that includes top-tier investment banks, fintech firms, regtech companies, financial market infrastructure providers, and regulatory reporting service providers.\n",
       "\n",
       "### Our Expertise\n",
       "\n",
       "**Regulatory Change Practice**  \n",
       "We execute various change projects tailored to meet the demands and timelines set by regulators across EMEA and the UK.\n",
       "\n",
       "**Process Excellence and Improvement**  \n",
       "Our approach focuses on eliminating waste and enhancing operational efficiency through methodical processes.\n",
       "\n",
       "**Transaction Reporting**  \n",
       "We drive regulatory compliance across jurisdictions, ensuring adherence to requirements such as EMIR REFIT, CFTC REWRITE, SFTR, FINFRAG, MAS, and ASIC.\n",
       "\n",
       "**Operational Risk Management**  \n",
       "Our team provides functional expertise to define, measure, analyze, and improve processes related to operational, compliance, and audit risks.\n",
       "\n",
       "**Business Analysis and Project Management**  \n",
       "We facilitate business analysis and project delivery by managing cross-functional teams worldwide.\n",
       "\n",
       "**Target Operating Model**  \n",
       "We analyze existing operations (AS IS) and design a future state (TO BE) in alignment with standards set by project sponsors and key stakeholders.\n",
       "\n",
       "### Our Core Values\n",
       "\n",
       "- **Integrity**\n",
       "- **Accountability**\n",
       "- **Empathy**\n",
       "- **Trust**\n",
       "- **Discipline**\n",
       "\n",
       "### Our Guiding Principles\n",
       "\n",
       "We believe in:\n",
       "- **Innovation**\n",
       "- **Collaboration**\n",
       "- **Partnership**\n",
       "- **Diversity**\n",
       "- **Sustainability**\n",
       "\n",
       "### Company Culture\n",
       "\n",
       "At Knowledge Seed Solutions, our culture is rooted in our core values. We prioritize integrity and accountability while fostering an environment of empathy and trust. We encourage innovation and collaboration and embrace diversity as a strength, driving us towards sustainable success.\n",
       "\n",
       "### Career Opportunities\n",
       "\n",
       "We are always looking for talented individuals who share our passion for regulatory compliance and operational excellence. Whether you’re an experienced professional or just starting your career, Knowledge Seed Solutions offers a dynamic environment where you can grow and make an impact.\n",
       "\n",
       "---\n",
       "\n",
       "**Contact Us:**  \n",
       "Email: [Contact@knowledgeseedsolutions.com](mailto:Contact@knowledgeseedsolutions.com)\n",
       "\n",
       "Join us in delivering change and compliance with integrity and expertise!"
      ],
      "text/plain": [
       "<IPython.core.display.Markdown object>"
      ]
     },
     "metadata": {},
     "output_type": "display_data"
    }
   ],
   "source": [
    "create_brochure(\"knowledgeseedsolutions\", \"https://knowledgeseedsolutions.co.uk/'\")"
   ]
  },
  {
   "cell_type": "markdown",
   "id": "61eaaab7-0b47-4b29-82d4-75d474ad8d18",
   "metadata": {},
   "source": [
    "## Finally - a minor improvement\n",
    "\n",
    "With a small adjustment, we can change this so that the results stream back from OpenAI,\n",
    "with the familiar typewriter animation"
   ]
  },
  {
   "cell_type": "code",
   "execution_count": null,
   "id": "bcb358a4-aa7f-47ec-b2bc-67768783dfe1",
   "metadata": {},
   "outputs": [],
   "source": []
  },
  {
   "cell_type": "code",
   "execution_count": null,
   "id": "51db0e49-f261-4137-aabe-92dd601f7725",
   "metadata": {},
   "outputs": [],
   "source": [
    "def stream_brochure(company_name, url):\n",
    "    stream = openai.chat.completions.create(\n",
    "        model=MODEL,\n",
    "        messages=[\n",
    "            {\"role\": \"system\", \"content\": system_prompt},\n",
    "            {\"role\": \"user\", \"content\": get_brochure_user_prompt(company_name, url)}\n",
    "          ],\n",
    "        stream=True\n",
    "    )\n",
    "    \n",
    "    response = \"\"\n",
    "    display_handle = display(Markdown(\"\"), display_id=True)\n",
    "    for chunk in stream:\n",
    "        response += chunk.choices[0].delta.content or ''\n",
    "        response = response.replace(\"```\",\"\").replace(\"markdown\", \"\")\n",
    "        update_display(Markdown(response), display_id=display_handle.display_id)"
   ]
  },
  {
   "cell_type": "code",
   "execution_count": null,
   "id": "56bf0ae3-ee9d-4a72-9cd6-edcac67ceb6d",
   "metadata": {},
   "outputs": [],
   "source": [
    "stream_brochure(\"Anthropic\", \"https://anthropic.com\")"
   ]
  },
  {
   "cell_type": "code",
   "execution_count": null,
   "id": "fdb3f8d8-a3eb-41c8-b1aa-9f60686a653b",
   "metadata": {},
   "outputs": [],
   "source": [
    "stream_brochure(\"HuggingFace\", \"https://huggingface.co\")"
   ]
  },
  {
   "cell_type": "code",
   "execution_count": null,
   "id": "22e878f1-08fe-4465-b50c-869352174eae",
   "metadata": {},
   "outputs": [],
   "source": []
  }
 ],
 "metadata": {
  "kernelspec": {
   "display_name": "Python 3 (ipykernel)",
   "language": "python",
   "name": "python3"
  },
  "language_info": {
   "codemirror_mode": {
    "name": "ipython",
    "version": 3
   },
   "file_extension": ".py",
   "mimetype": "text/x-python",
   "name": "python",
   "nbconvert_exporter": "python",
   "pygments_lexer": "ipython3",
   "version": "3.11.10"
  }
 },
 "nbformat": 4,
 "nbformat_minor": 5
}
